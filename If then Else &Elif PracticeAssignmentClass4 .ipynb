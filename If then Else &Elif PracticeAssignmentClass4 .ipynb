{
 "cells": [
  {
   "cell_type": "raw",
   "metadata": {
    "id": "8rksu2_jMVjQ"
   },
   "source": [
    "1) A company decided to give bonus of 5% to employee if his/her year of service is more than 5 years.\n",
    "Ask user for their salary and year of service and print the net bonus amount."
   ]
  },
  {
   "cell_type": "code",
   "execution_count": 1,
   "metadata": {
    "id": "_GRPHPiLMVjX"
   },
   "outputs": [
    {
     "name": "stdout",
     "output_type": "stream",
     "text": [
      "Enter year of service:6\n",
      "Enter salary:50000\n",
      "The net bonus is: 2500.0\n"
     ]
    }
   ],
   "source": [
    "year_of_service=input(\"Enter year of service:\")\n",
    "salary=int(input(\"Enter salary:\"))\n",
    "if year_of_service>\"5\":\n",
    "    bonus=(salary*5)/100\n",
    "    print(\"The net bonus is:\",bonus) "
   ]
  },
  {
   "cell_type": "markdown",
   "metadata": {
    "id": "iXt5RVcjMVja"
   },
   "source": [
    "\n",
    "2) Write a program to check whether a person is eligible for voting or not. (accept age from user)"
   ]
  },
  {
   "cell_type": "code",
   "execution_count": 2,
   "metadata": {
    "id": "jXVCvia3MVjh"
   },
   "outputs": [
    {
     "name": "stdout",
     "output_type": "stream",
     "text": [
      "enter age:45\n",
      "Eligible\n"
     ]
    }
   ],
   "source": [
    "age=input(\"enter age:\")\n",
    "if age>=\"18\":\n",
    "    print(\"Eligible\")\n",
    "else:\n",
    "    print(\"Not eligible\")"
   ]
  },
  {
   "cell_type": "markdown",
   "metadata": {
    "id": "IkNM7QpCMVjj"
   },
   "source": [
    "\n",
    "3) Write a program to check whether a number entered by user is even or odd."
   ]
  },
  {
   "cell_type": "code",
   "execution_count": 3,
   "metadata": {
    "id": "-GxviwByMVjl"
   },
   "outputs": [
    {
     "name": "stdout",
     "output_type": "stream",
     "text": [
      "Enter number:3\n",
      "Odd\n"
     ]
    }
   ],
   "source": [
    "number=int(input(\"Enter number:\"))\n",
    "if number%2==0:\n",
    "    print(\"Even\")\n",
    "else:\n",
    "    print(\"Odd\")"
   ]
  },
  {
   "cell_type": "markdown",
   "metadata": {
    "id": "_jEHjkfdMVjm"
   },
   "source": [
    "4) Write a program to check whether a number is divisible by 7 or not.\n",
    "Show Answer"
   ]
  },
  {
   "cell_type": "code",
   "execution_count": 4,
   "metadata": {
    "id": "IRNXyG1GMVjo"
   },
   "outputs": [
    {
     "name": "stdout",
     "output_type": "stream",
     "text": [
      "Enter number:87\n",
      "Not Divisible\n"
     ]
    }
   ],
   "source": [
    "number=int(input(\"Enter number:\"))\n",
    "if number%7==0:\n",
    "    print(\"Divisible\")\n",
    "else:\n",
    "    print(\"Not Divisible\")"
   ]
  },
  {
   "cell_type": "raw",
   "metadata": {
    "id": "XxfyVe4kMVjp"
   },
   "source": [
    "5) Write a program to display \n",
    "\"Hello\" if a number entered by user is a multiple of five , otherwise print \"Bye\"."
   ]
  },
  {
   "cell_type": "code",
   "execution_count": 5,
   "metadata": {
    "id": "Ixnz4R4TMVjr"
   },
   "outputs": [
    {
     "name": "stdout",
     "output_type": "stream",
     "text": [
      "Enter number:36\n",
      "Bye\n"
     ]
    }
   ],
   "source": [
    "number=int(input(\"Enter number:\"))\n",
    "if number%5==0:\n",
    "    print(\"Hello\")\n",
    "else:\n",
    "    print(\"Bye\")"
   ]
  },
  {
   "cell_type": "raw",
   "metadata": {
    "id": "qfzRUUwOMVjs"
   },
   "source": [
    "6) Write a program to calculate the electricity bill (accept number of unit from user) according to the following criteria :\n",
    "     Unit                                                     Price  \n",
    "uptp 100 units                                             no charge\n",
    "Next 200 units                                              Rs 5 per unit\n",
    "After 200 units                                             Rs 10 per unit\n",
    "(For example if input unit is 350 than total bill amount is Rs.2000\n",
    "(For example if input unit is 97 than total bill amount is Rs.0\n",
    "(For example if input unit is 150 than total bill amount is Rs.250"
   ]
  },
  {
   "cell_type": "code",
   "execution_count": 6,
   "metadata": {
    "id": "1BY1oAIpMVju"
   },
   "outputs": [
    {
     "name": "stdout",
     "output_type": "stream",
     "text": [
      "Enter number of Unit:60\n",
      "0\n"
     ]
    }
   ],
   "source": [
    "number_of_unit=int(input(\"Enter number of Unit:\"))\n",
    "if number_of_unit<100:\n",
    "    print(number_of_unit*0)\n",
    "elif number_of_unit>100 and number_of_unit<200:\n",
    "    print(number_of_unit*5)\n",
    "else:\n",
    "    print(number_of_unit*10)"
   ]
  },
  {
   "cell_type": "raw",
   "metadata": {
    "id": "msAIDMRDMVjv"
   },
   "source": [
    "7) Write a program to display the last digit of a number."
   ]
  },
  {
   "cell_type": "code",
   "execution_count": 7,
   "metadata": {
    "id": "VQwLuGzbMVjv"
   },
   "outputs": [
    {
     "name": "stdout",
     "output_type": "stream",
     "text": [
      "8\n"
     ]
    }
   ],
   "source": [
    "number=\"03349159978\"\n",
    "print(number[-1])"
   ]
  },
  {
   "cell_type": "raw",
   "metadata": {
    "id": "UeLHzVZ_MVjw"
   },
   "source": [
    "Q8. Write a program to check whether the last digit of a number( entered by user ) is \n",
    "divisible by 3 or not."
   ]
  },
  {
   "cell_type": "code",
   "execution_count": 8,
   "metadata": {
    "id": "KiQ5wnc6MVjx"
   },
   "outputs": [
    {
     "name": "stdout",
     "output_type": "stream",
     "text": [
      "Enter number:43\n",
      "The last digit is divisible by 3\n"
     ]
    }
   ],
   "source": [
    "num=input(\"Enter number:\")\n",
    "last_number=int(num[-1])\n",
    "if last_number%3==0:\n",
    "    print(\"The last digit is divisible by 3\")\n",
    "else:\n",
    "    print(\"The last digit is not divisible by 3\")"
   ]
  },
  {
   "cell_type": "raw",
   "metadata": {
    "id": "CR4sMmRgMVjy"
   },
   "source": [
    "9) Take values of length and breadth of a rectangle from user and check if it is square or not."
   ]
  },
  {
   "cell_type": "code",
   "execution_count": 9,
   "metadata": {
    "id": "Oj1MT5fCMVjy"
   },
   "outputs": [
    {
     "name": "stdout",
     "output_type": "stream",
     "text": [
      "Enter length:4\n",
      "Enter breadth:3\n",
      "Not square\n"
     ]
    }
   ],
   "source": [
    "length=input(\"Enter length:\")\n",
    "breadth=input(\"Enter breadth:\")\n",
    "if length==breadth:\n",
    "    print(\"square\")\n",
    "else:\n",
    "    print(\"Not square\")"
   ]
  },
  {
   "cell_type": "raw",
   "metadata": {
    "id": "B2e5VYbiMVjz"
   },
   "source": [
    "10) Take two int values from user and print greatest among them."
   ]
  },
  {
   "cell_type": "code",
   "execution_count": 10,
   "metadata": {
    "id": "LyYYL78HMVj0"
   },
   "outputs": [
    {
     "name": "stdout",
     "output_type": "stream",
     "text": [
      "Enter number 1:4\n",
      "Enter number 2:6\n",
      "num2 is greater\n"
     ]
    }
   ],
   "source": [
    "num1=int(input(\"Enter number 1:\"))\n",
    "num2=int(input(\"Enter number 2:\"))\n",
    "if num1>num2:\n",
    "    print(\"num1 is greater\")\n",
    "elif num1<num2:\n",
    "    print(\"num2 is greater\")"
   ]
  },
  {
   "cell_type": "raw",
   "metadata": {
    "id": "R9gMEjdQMVj1"
   },
   "source": [
    "11) A shop will give discount of 10% if the cost of purchased quantity is more than 1000.\n",
    "Ask user for quantity\n",
    "Suppose, one unit will cost 100.\n",
    "Judge and print total cost for user."
   ]
  },
  {
   "cell_type": "code",
   "execution_count": 11,
   "metadata": {
    "id": "hjvEnOzxMVj2"
   },
   "outputs": [
    {
     "name": "stdout",
     "output_type": "stream",
     "text": [
      "Enter Quantity:3000\n",
      "2700.0\n"
     ]
    }
   ],
   "source": [
    "cost_of_purchase_quantity=int(input(\"Enter Quantity:\"))\n",
    "if cost_of_purchase_quantity>1000:\n",
    "    discount=(cost_of_purchase_quantity*10)/100\n",
    "    cost_of_purchase_quantity=cost_of_purchase_quantity-discount\n",
    "    print(cost_of_purchase_quantity)\n",
    "else:\n",
    "    print(cost_of_purchase_quantity)"
   ]
  },
  {
   "cell_type": "raw",
   "metadata": {
    "id": "yqYL7FZeMVj3"
   },
   "source": [
    "12) A school has following rules for grading system:\n",
    "\n",
    "a. Below 25 - F\n",
    "\n",
    "b. 25 to 45 - E\n",
    "\n",
    "c. 45 to 50 - D\n",
    "\n",
    "d. 50 to 60 - C\n",
    "\n",
    "e. 60 to 80 - B\n",
    "\n",
    "f. Above 80 - A\n",
    "\n",
    "Ask user to enter marks and print the corresponding grade."
   ]
  },
  {
   "cell_type": "code",
   "execution_count": 12,
   "metadata": {
    "id": "he_r-bpOMVj4"
   },
   "outputs": [
    {
     "name": "stdout",
     "output_type": "stream",
     "text": [
      "Enter grades:30\n",
      "E\n"
     ]
    }
   ],
   "source": [
    "grades=int(input(\"Enter grades:\"))\n",
    "if grades>80:\n",
    "    print(\"A\")\n",
    "elif grades>=60 and grades<80:\n",
    "    print(\"B\")\n",
    "elif grades>=50 and grades<60:\n",
    "    print(\"C\")\n",
    "elif grades>=45 and grades<50:\n",
    "    print(\"D\")\n",
    "elif grades>=25 and grades<45:\n",
    "    print(\"E\")\n",
    "elif grades<25:\n",
    "    print(\"F\")"
   ]
  },
  {
   "cell_type": "raw",
   "metadata": {
    "id": "IUJjt9NbMVj4"
   },
   "source": [
    "13) Take input of age of 3 people by user and determine oldest and youngest among them."
   ]
  },
  {
   "cell_type": "code",
   "execution_count": 13,
   "metadata": {
    "id": "vlre5Ck0MVj4"
   },
   "outputs": [
    {
     "name": "stdout",
     "output_type": "stream",
     "text": [
      "enter age:34\n",
      "enter age:31\n",
      "enter age:33\n",
      "people1 is the oldest\n",
      "people2 is the youngest\n"
     ]
    }
   ],
   "source": [
    "people1=int(input(\"enter age:\"))\n",
    "people2=int(input(\"enter age:\"))\n",
    "people3=int(input(\"enter age:\"))\n",
    "if(people1>people2):\n",
    "    if(people1>people3):\n",
    "        print(\"people1 is the oldest\")\n",
    "        if(people3>people2):\n",
    "            print(\"people2 is the youngest\")\n",
    "        else:\n",
    "            print(\"people3 is youngest\")\n",
    "    elif(people3>people1):\n",
    "        print(\"people3 is the oldest\")\n",
    "        print(\"people2 is the youngest\")\n",
    "elif(people2>people3):\n",
    "    print(\"people2 is the oldest\")\n",
    "    if(people1>people3):\n",
    "        print(\"people3 is the youngest\")\n",
    "    else:\n",
    "        print(\"people1 is the youngest\")\n",
    "else:\n",
    "    print(\"people3 is the oldest\")\n",
    "    if(people1>people2):\n",
    "        print(\"people2 is the youngest\")\n",
    "    else:\n",
    "        print(\"people1 is the youngest\")"
   ]
  },
  {
   "cell_type": "raw",
   "metadata": {
    "id": "Zc9ovDhsMVj5"
   },
   "source": [
    "14)A student will not be allowed to sit in exam if his/her attendence is less than 75%.\n",
    "\n",
    "Take following input from user\n",
    "\n",
    "Number of classes held\n",
    "\n",
    "Number of classes attended.\n",
    "\n",
    "And print\n",
    "\n",
    "percentage of class attended\n",
    "\n",
    "Is student is allowed to sit in exam or not.\n"
   ]
  },
  {
   "cell_type": "code",
   "execution_count": 15,
   "metadata": {
    "id": "rseYum2_MVj6"
   },
   "outputs": [
    {
     "name": "stdout",
     "output_type": "stream",
     "text": [
      "Enter number of classes held:16\n",
      "Enter number of classes attended:11\n",
      "student is not allowed to sit in the exam\n"
     ]
    }
   ],
   "source": [
    "Number_of_classes_held=int(input(\"Enter number of classes held:\"))\n",
    "Number_of_classes_attended=int(input(\"Enter number of classes attended:\"))\n",
    "percentage_of_classes_attended=(Number_of_classes_attended*100)/Number_of_classes_held\n",
    "if percentage_of_classes_attended>=75:\n",
    "    print(\"student is allowed to sit in the exam\")\n",
    "else:\n",
    "    print(\"student is not allowed to sit in the exam\")"
   ]
  },
  {
   "cell_type": "raw",
   "metadata": {
    "id": "58UPPHAOMVj6"
   },
   "source": [
    "15) Modify the above question to allow student to sit if he/she has medical cause. Ask user if he/she has medical cause or not ( 'Y' or 'N' ) and print accordingly."
   ]
  },
  {
   "cell_type": "code",
   "execution_count": 17,
   "metadata": {
    "id": "lDi-xLzTMVj7"
   },
   "outputs": [
    {
     "name": "stdout",
     "output_type": "stream",
     "text": [
      "Enter number of classes held:35\n",
      "Enter number of classes attended:21\n",
      "student is not allowed to sit in the exam\n",
      "You have any medical emergency or not:Y\n",
      "student is allowed to sit in the exam\n"
     ]
    }
   ],
   "source": [
    "Number_of_classes_held=int(input(\"Enter number of classes held:\"))\n",
    "Number_of_classes_attended=int(input(\"Enter number of classes attended:\"))\n",
    "percentage_of_classes_attended=(Number_of_classes_attended*100)/Number_of_classes_held\n",
    "if percentage_of_classes_attended>=75:\n",
    "    print(\"student is allowed to sit in the exam\")\n",
    "else:\n",
    "    print(\"student is not allowed to sit in the exam\")\n",
    "    question=input(\"You have any medical emergency or not:\")\n",
    "    if(question==\"Y\"):\n",
    "        print(\"student is allowed to sit in the exam\")\n",
    "    elif(question==\"N\"):\n",
    "        print(\"student is not allowed to sit in the exam\")"
   ]
  },
  {
   "cell_type": "raw",
   "metadata": {
    "id": "kJtSy1EoMVj7"
   },
   "source": [
    "16) Write a program to check if a year is leap year or not.\n",
    "\n",
    "If a year is divisible by 4 then it is leap year but if the year is century year like 2000, 1900, 2100 then it must be divisible by 400."
   ]
  },
  {
   "cell_type": "code",
   "execution_count": 19,
   "metadata": {
    "id": "QUL_YUX3MVj7"
   },
   "outputs": [
    {
     "name": "stdout",
     "output_type": "stream",
     "text": [
      "Enter year:2001\n",
      "it is not leap year\n"
     ]
    }
   ],
   "source": [
    "year=int(input(\"Enter year:\"))\n",
    "if(year%4==0)or(year%400==0):\n",
    "    print(\"This is leap year\")\n",
    "else:\n",
    "    print(\"it is not leap year\")"
   ]
  },
  {
   "cell_type": "raw",
   "metadata": {
    "id": "CCNg4yDDMVj8"
   },
   "source": [
    "17) Ask user to enter age, gender ( M or F ), marital status ( Y or N ) and then using following rules print their place of service.\n",
    "\n",
    "if employee is female, then she will work only in urban areas.\n",
    "\n",
    "if employee is a male and age is in between 20 to 40 then he may work in anywhere\n",
    "\n",
    "if employee is male and age is in between 40 t0 60 then he will work in urban areas only.\n",
    "\n",
    "And any other input of age should print \"ERROR\""
   ]
  },
  {
   "cell_type": "code",
   "execution_count": 22,
   "metadata": {
    "id": "RDWMB0CZMVj8"
   },
   "outputs": [
    {
     "name": "stdout",
     "output_type": "stream",
     "text": [
      "enter age:50\n",
      "enter gender:male\n",
      "martial status:single\n",
      "work in urban areas\n"
     ]
    }
   ],
   "source": [
    "age=int(input(\"enter age:\"))\n",
    "gender=input(\"enter gender:\")\n",
    "martial_status=input(\"martial status:\")\n",
    "if(gender==\"female\"):\n",
    "    print(\"work in urban areas\")\n",
    "elif(gender==\"male\" and (age>=20 and age<40)):\n",
    "    print(\"work anywhere\")\n",
    "elif(gender==\"male\" and (age>=40 and age<60)):\n",
    "    print(\"work in urban areas\")\n",
    "else:\n",
    "    print(\"Error\")"
   ]
  }
 ],
 "metadata": {
  "colab": {
   "name": "If then Else &Elif Practice Task .ipynb",
   "provenance": []
  },
  "kernelspec": {
   "display_name": "Python 3 (ipykernel)",
   "language": "python",
   "name": "python3"
  },
  "language_info": {
   "codemirror_mode": {
    "name": "ipython",
    "version": 3
   },
   "file_extension": ".py",
   "mimetype": "text/x-python",
   "name": "python",
   "nbconvert_exporter": "python",
   "pygments_lexer": "ipython3",
   "version": "3.10.4"
  }
 },
 "nbformat": 4,
 "nbformat_minor": 1
}
